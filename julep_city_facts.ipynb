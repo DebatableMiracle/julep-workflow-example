{
 "cells": [
  {
   "cell_type": "markdown",
   "metadata": {},
   "source": [
    "Installing the Julep Client"
   ]
  },
  {
   "cell_type": "code",
   "execution_count": 2,
   "metadata": {},
   "outputs": [],
   "source": [
    "!pip install julep -U --quiet"
   ]
  },
  {
   "cell_type": "code",
   "execution_count": 2,
   "metadata": {},
   "outputs": [],
   "source": [
    "# Global UUID is generated for agent and task\n",
    "import uuid\n",
    "\n",
    "AGENT_UUID = uuid.uuid4()\n",
    "TASK_UUID = uuid.uuid4() "
   ]
  },
  {
   "cell_type": "markdown",
   "metadata": {},
   "source": [
    "### creating julep client with the api key\n"
   ]
  },
  {
   "cell_type": "code",
   "execution_count": 3,
   "metadata": {},
   "outputs": [],
   "source": [
    "from julep import Client\n",
    "import os\n",
    "\n",
    "JULEP_API_KEY = os.environ[\"JULEP_API_KEY\"]\n",
    "\n",
    "# Create a Julep client\n",
    "client = Client(api_key=JULEP_API_KEY, environment=\"production\")"
   ]
  },
  {
   "cell_type": "markdown",
   "metadata": {},
   "source": [
    "### Creating an \"agent\"\n",
    "\n",
    "Agent is the object to which LLM settings, like model, temperature along with tools are scoped to.\n",
    "\n",
    "To learn more about the agent, please refer to the Agent section in [Julep Concepts](https://docs.julep.ai/docs/concepts/agents)."
   ]
  },
  {
   "cell_type": "code",
   "execution_count": 4,
   "metadata": {},
   "outputs": [],
   "source": [
    "# Defining the agent\n",
    "name = \"Saviez Vous\"\n",
    "about = \"A city guide like agent that tells you 3 fun facts about cities using wikipedia!.\"\n",
    "\n",
    "# Create the agent\n",
    "agent = client.agents.create_or_update(\n",
    "    agent_id=AGENT_UUID,\n",
    "    name=name,\n",
    "    about=about,\n",
    "    model=\"gpt-4o\",\n",
    ")"
   ]
  },
  {
   "cell_type": "markdown",
   "metadata": {},
   "source": [
    "### Defining a Task\n",
    "\n",
    "Tasks in Julep are Github-Actions-style workflows that define long-running, multi-step actions.\n",
    "\n",
    "You can use them to conduct complex actions by defining them step-by-step.\n",
    "\n",
    "To learn more about tasks, please refer to the `Tasks` section in [Julep Concepts](https://docs.julep.ai/docs/concepts/tasks)."
   ]
  },
  {
   "cell_type": "code",
   "execution_count": 10,
   "metadata": {},
   "outputs": [],
   "source": [
    "import yaml\n",
    "\n",
    "# Defining the task\n",
    "task_def = yaml.safe_load(f\"\"\"\n",
    "# yaml-language-server: $schema=https://raw.githubusercontent.com/julep-ai/julep/refs/heads/dev/schemas/create_task_request.json\n",
    "name: Julep City Fun Facts\n",
    "description: A task that gives you 3 fun facts about a city using Wikipedia.\n",
    "\n",
    "########################################################\n",
    "####################### INPUT SCHEMA ##################\n",
    "########################################################                       \n",
    "\n",
    "input_schema:\n",
    "  type: object\n",
    "  properties:\n",
    "    locations:\n",
    "      type: array\n",
    "      items:\n",
    "        type: string\n",
    "      description: The list of city names.\n",
    "\n",
    "########################################################\n",
    "####################### TOOLS ##########################\n",
    "########################################################\n",
    "\n",
    "# Define the tools that the task will use in this workflow\n",
    "tools:\n",
    "- name: wikipedia\n",
    "  type: integration\n",
    "  integration:\n",
    "    provider: wikipedia\n",
    "\n",
    "########################################################\n",
    "####################### MAIN WORKFLOW ##########################\n",
    "########################################################\n",
    "\n",
    "main:\n",
    "# Step 0: Search Wikipedia summary for each city\n",
    "- over: $ steps[0].input.locations\n",
    "  map:\n",
    "    tool: wikipedia\n",
    "    arguments:\n",
    "      query: $_\n",
    "\n",
    "# Step 1: Generate 3 cool facts from each city description\n",
    "- over: $ steps[0].output\n",
    "                          \n",
    "  map:\n",
    "    prompt:\n",
    "    - role: system\n",
    "      content: |\n",
    "        You are an assistant that extracts interesting “Did-you-know?” style facts from a city description.\n",
    "        Given a text about a city, pick three surprising or cool facts (historical events, landmarks, legends).\n",
    "        Return the facts as a friendly list of three “Did-you-know?” blurbs.\n",
    "    - role: user\n",
    "      content: |-\n",
    "        Here is a description of a city:\n",
    "        \"{{_}}\"\n",
    "        Extract three cool facts for a visitor.\n",
    "\n",
    "# Step 2: Zip city names and their extracted facts into a list of tuples [(city, facts)]\n",
    "- evaluate:\n",
    "    zipped: |-\n",
    "      $ list(zip(steps[0].input.locations, steps[1].output))\n",
    "\n",
    "# Step 3: Format a friendly \"Did you know?\" paragraph per city\n",
    "- over: $ _['zipped']\n",
    "  map:\n",
    "    prompt:\n",
    "    - role: system\n",
    "      content: |-\n",
    "        Format the city and facts into a friendly paragraph with the heading \"Did you know about [City]?\"\n",
    "\n",
    "    - role: user\n",
    "      content: |-\n",
    "        City: \"{{_[0]}}\"\n",
    "        Facts:\n",
    "        \"{{_[1]}}\"\n",
    "\n",
    "# Step 4: Join everything into one final message\n",
    "- evaluate:\n",
    "    final_message: |-\n",
    "      $ '\\\\n'.join(_)\n",
    "\"\"\")"
   ]
  },
  {
   "cell_type": "code",
   "execution_count": 11,
   "metadata": {},
   "outputs": [],
   "source": [
    "# creating the task object\n",
    "task = client.tasks.create_or_update(\n",
    "    task_id=TASK_UUID,\n",
    "    agent_id=AGENT_UUID,\n",
    "    **task_def\n",
    ")"
   ]
  },
  {
   "cell_type": "markdown",
   "metadata": {},
   "source": [
    "### Creating an Execution\n",
    "\n",
    "An execution is a single run of a task. It is a way to run a task with a specific set of inputs.\n",
    "\n",
    "To learn more about executions, please refer to the `Executions` section in [Julep Concepts](https://docs.julep.ai/docs/concepts/execution)."
   ]
  },
  {
   "cell_type": "code",
   "execution_count": 12,
   "metadata": {},
   "outputs": [
    {
     "name": "stdout",
     "output_type": "stream",
     "text": [
      "Started an execution. Execution ID: 06845e49-fba3-7cbb-8000-b6c3f4e42342\n"
     ]
    }
   ],
   "source": [
    "execution = client.executions.create(\n",
    "    task_id=task.id,\n",
    "    input={\n",
    "         \"locations\": [\"New York\", \"London\", \"Paris\", \"Tokyo\", \"Sydney\"]\n",
    "    }\n",
    ")\n",
    "\n",
    "print(\"Started an execution. Execution ID:\", execution.id)"
   ]
  },
  {
   "cell_type": "markdown",
   "metadata": {},
   "source": [
    "## Checking execution details and output"
   ]
  },
  {
   "cell_type": "markdown",
   "metadata": {},
   "source": [
    "There are multiple ways to get the execution details and the output:\n",
    "\n",
    "1. **Get Execution Details**: This method retrieves the details of the execution, including the output of the last transition that took place.\n",
    "\n",
    "2. **List Transitions**: This method lists all the task steps that have been executed up to this point in time, so the output of a successful execution will be the output of the last transition (first in the transition list as it is in reverse chronological order), which should have a type of `finish`.\n",
    "\n",
    "\n",
    "<span style=\"color:olive;\">Note: You need to wait for a few seconds for the execution to complete before you can get the final output, so feel free to run the following cells multiple times until you get the final output.</span>\n"
   ]
  },
  {
   "cell_type": "code",
   "execution_count": 13,
   "metadata": {},
   "outputs": [
    {
     "name": "stdout",
     "output_type": "stream",
     "text": [
      "Execution status:  running\n",
      "--------------------------------------------------\n",
      "Execution status:  running\n",
      "--------------------------------------------------\n",
      "Execution status:  failed\n",
      "--------------------------------------------------\n",
      "Execution status:  failed\n",
      "--------------------------------------------------\n"
     ]
    },
    {
     "ename": "KeyboardInterrupt",
     "evalue": "",
     "output_type": "error",
     "traceback": [
      "\u001b[0;31m---------------------------------------------------------------------------\u001b[0m",
      "\u001b[0;31mKeyboardInterrupt\u001b[0m                         Traceback (most recent call last)",
      "Cell \u001b[0;32mIn[13], line 6\u001b[0m\n\u001b[1;32m      3\u001b[0m execution \u001b[38;5;241m=\u001b[39m client\u001b[38;5;241m.\u001b[39mexecutions\u001b[38;5;241m.\u001b[39mget(execution\u001b[38;5;241m.\u001b[39mid)\n\u001b[1;32m      5\u001b[0m \u001b[38;5;28;01mwhile\u001b[39;00m execution\u001b[38;5;241m.\u001b[39mstatus \u001b[38;5;241m!=\u001b[39m \u001b[38;5;124m\"\u001b[39m\u001b[38;5;124msucceeded\u001b[39m\u001b[38;5;124m\"\u001b[39m:\n\u001b[0;32m----> 6\u001b[0m     \u001b[43mtime\u001b[49m\u001b[38;5;241;43m.\u001b[39;49m\u001b[43msleep\u001b[49m\u001b[43m(\u001b[49m\u001b[38;5;241;43m5\u001b[39;49m\u001b[43m)\u001b[49m\n\u001b[1;32m      7\u001b[0m     execution \u001b[38;5;241m=\u001b[39m client\u001b[38;5;241m.\u001b[39mexecutions\u001b[38;5;241m.\u001b[39mget(execution\u001b[38;5;241m.\u001b[39mid)\n\u001b[1;32m      8\u001b[0m     \u001b[38;5;28mprint\u001b[39m(\u001b[38;5;124m\"\u001b[39m\u001b[38;5;124mExecution status: \u001b[39m\u001b[38;5;124m\"\u001b[39m, execution\u001b[38;5;241m.\u001b[39mstatus)\n",
      "\u001b[0;31mKeyboardInterrupt\u001b[0m: "
     ]
    }
   ],
   "source": [
    "import time\n",
    "\n",
    "execution = client.executions.get(execution.id)\n",
    "\n",
    "while execution.status != \"succeeded\":\n",
    "    time.sleep(5)\n",
    "    execution = client.executions.get(execution.id)\n",
    "    print(\"Execution status: \", execution.status)\n",
    "    print(\"-\"*50)\n",
    "\n",
    "execution = client.executions.get(execution.id)\n",
    "\n",
    "if 'final_plan' in execution.output:\n",
    "    print(execution.output['final_plan'])\n",
    "else:\n",
    "    print(execution.output)\n"
   ]
  },
  {
   "cell_type": "code",
   "execution_count": 14,
   "metadata": {},
   "outputs": [
    {
     "name": "stdout",
     "output_type": "stream",
     "text": [
      "Transition type:  init\n",
      "Transition output:  {'locations': ['New York', 'London', 'Paris', 'Tokyo', 'Sydney']}\n",
      "--------------------------------------------------\n",
      "Transition type:  init_branch\n",
      "Transition output:  New York\n",
      "--------------------------------------------------\n",
      "Transition type:  init_branch\n",
      "Transition output:  Tokyo\n",
      "--------------------------------------------------\n",
      "Transition type:  init_branch\n",
      "Transition output:  London\n",
      "--------------------------------------------------\n",
      "Transition type:  init_branch\n",
      "Transition output:  Paris\n",
      "--------------------------------------------------\n",
      "Transition type:  init_branch\n",
      "Transition output:  Sydney\n",
      "--------------------------------------------------\n",
      "Transition type:  finish_branch\n",
      "Transition output:  {'documents': []}\n",
      "--------------------------------------------------\n",
      "Transition type:  finish_branch\n",
      "Transition output:  {'documents': []}\n",
      "--------------------------------------------------\n",
      "Transition type:  finish_branch\n",
      "Transition output:  {'documents': []}\n",
      "--------------------------------------------------\n",
      "Transition type:  finish_branch\n",
      "Transition output:  {'documents': []}\n",
      "--------------------------------------------------\n",
      "Transition type:  finish_branch\n",
      "Transition output:  {'documents': []}\n",
      "--------------------------------------------------\n",
      "Transition type:  step\n",
      "Transition output:  [{'documents': []}, {'documents': []}, {'documents': []}, {'documents': []}, {'documents': []}]\n",
      "--------------------------------------------------\n",
      "Transition type:  init_branch\n",
      "Transition output:  {'documents': []}\n",
      "--------------------------------------------------\n",
      "Transition type:  init_branch\n",
      "Transition output:  {'documents': []}\n",
      "--------------------------------------------------\n",
      "Transition type:  init_branch\n",
      "Transition output:  {'documents': []}\n",
      "--------------------------------------------------\n",
      "Transition type:  init_branch\n",
      "Transition output:  {'documents': []}\n",
      "--------------------------------------------------\n",
      "Transition type:  init_branch\n",
      "Transition output:  {'documents': []}\n",
      "--------------------------------------------------\n",
      "Transition type:  finish_branch\n",
      "Transition output:  {'id': 'chatcmpl-BgG02p7VaA2q9TnhAY4vJaf5lbcRd', 'model': 'gpt-4o-2024-08-06', 'usage': {'total_tokens': 128, 'prompt_tokens': 93, 'completion_tokens': 35, 'prompt_tokens_details': {'audio_tokens': 0, 'cached_tokens': 0}, 'completion_tokens_details': {'audio_tokens': 0, 'reasoning_tokens': 0, 'accepted_prediction_tokens': 0, 'rejected_prediction_tokens': 0}}, 'object': 'chat.completion', 'choices': [{'index': 0, 'message': {'role': 'assistant', 'content': \"It seems there is no information about the city. If you can provide more details or a description of a specific city, I'd be happy to extract some interesting facts for you!\", 'tool_calls': None, 'function_call': None}, 'finish_reason': 'stop'}], 'created': 1749410978, 'service_tier': 'default', 'system_fingerprint': 'fp_07871e2ad8'}\n",
      "--------------------------------------------------\n",
      "Transition type:  finish_branch\n",
      "Transition output:  {'id': 'chatcmpl-BgG03x7BP1rl7foodT0u3xwDeFLpO', 'model': 'gpt-4o-2024-08-06', 'usage': {'total_tokens': 132, 'prompt_tokens': 93, 'completion_tokens': 39, 'prompt_tokens_details': {'audio_tokens': 0, 'cached_tokens': 0}, 'completion_tokens_details': {'audio_tokens': 0, 'reasoning_tokens': 0, 'accepted_prediction_tokens': 0, 'rejected_prediction_tokens': 0}}, 'object': 'chat.completion', 'choices': [{'index': 0, 'message': {'role': 'assistant', 'content': \"It seems there is no information provided about the city. Could you please provide a description or some details about the city you are interested in? I'd be happy to help once I have more information!\", 'tool_calls': None, 'function_call': None}, 'finish_reason': 'stop'}], 'created': 1749410979, 'service_tier': 'default', 'system_fingerprint': 'fp_07871e2ad8'}\n",
      "--------------------------------------------------\n",
      "Transition type:  finish_branch\n",
      "Transition output:  {'id': 'chatcmpl-BgG035XERM9NhUEn3cj3mxXWsBR9F', 'model': 'gpt-4o-2024-08-06', 'usage': {'total_tokens': 125, 'prompt_tokens': 93, 'completion_tokens': 32, 'prompt_tokens_details': {'audio_tokens': 0, 'cached_tokens': 0}, 'completion_tokens_details': {'audio_tokens': 0, 'reasoning_tokens': 0, 'accepted_prediction_tokens': 0, 'rejected_prediction_tokens': 0}}, 'object': 'chat.completion', 'choices': [{'index': 0, 'message': {'role': 'assistant', 'content': \"It seems like there is no detailed information provided about a city. If you can share more about any city, I'd be happy to help extract some interesting facts!\", 'tool_calls': None, 'function_call': None}, 'finish_reason': 'stop'}], 'created': 1749410979, 'service_tier': 'default', 'system_fingerprint': 'fp_07871e2ad8'}\n",
      "--------------------------------------------------\n",
      "Transition type:  finish_branch\n",
      "Transition output:  {'id': 'chatcmpl-BgG03djFoojFMwIvUy42TfgV7ORai', 'model': 'gpt-4o-2024-08-06', 'usage': {'total_tokens': 137, 'prompt_tokens': 93, 'completion_tokens': 44, 'prompt_tokens_details': {'audio_tokens': 0, 'cached_tokens': 0}, 'completion_tokens_details': {'audio_tokens': 0, 'reasoning_tokens': 0, 'accepted_prediction_tokens': 0, 'rejected_prediction_tokens': 0}}, 'object': 'chat.completion', 'choices': [{'index': 0, 'message': {'role': 'assistant', 'content': \"I'm sorry, it looks like the description provided doesn't contain any information about a city. If you have a different or more detailed description, feel free to share it, and I'd be happy to help extract some interesting facts!\", 'tool_calls': None, 'function_call': None}, 'finish_reason': 'stop'}], 'created': 1749410979, 'service_tier': 'default', 'system_fingerprint': 'fp_07871e2ad8'}\n",
      "--------------------------------------------------\n",
      "Transition type:  finish_branch\n",
      "Transition output:  {'id': 'chatcmpl-BgG03TB7070Nz9ji6ZCjmgsN0faa8', 'model': 'gpt-4o-2024-08-06', 'usage': {'total_tokens': 126, 'prompt_tokens': 93, 'completion_tokens': 33, 'prompt_tokens_details': {'audio_tokens': 0, 'cached_tokens': 0}, 'completion_tokens_details': {'audio_tokens': 0, 'reasoning_tokens': 0, 'accepted_prediction_tokens': 0, 'rejected_prediction_tokens': 0}}, 'object': 'chat.completion', 'choices': [{'index': 0, 'message': {'role': 'assistant', 'content': \"It looks like there is no information provided about the city. If you can provide some details about the city, I'd be happy to extract some interesting facts for you!\", 'tool_calls': None, 'function_call': None}, 'finish_reason': 'stop'}], 'created': 1749410979, 'service_tier': 'default', 'system_fingerprint': 'fp_07871e2ad8'}\n",
      "--------------------------------------------------\n",
      "Transition type:  step\n",
      "Transition output:  [{'id': 'chatcmpl-BgG02p7VaA2q9TnhAY4vJaf5lbcRd', 'model': 'gpt-4o-2024-08-06', 'usage': {'total_tokens': 128, 'prompt_tokens': 93, 'completion_tokens': 35, 'prompt_tokens_details': {'audio_tokens': 0, 'cached_tokens': 0}, 'completion_tokens_details': {'audio_tokens': 0, 'reasoning_tokens': 0, 'accepted_prediction_tokens': 0, 'rejected_prediction_tokens': 0}}, 'object': 'chat.completion', 'choices': [{'index': 0, 'message': {'role': 'assistant', 'content': \"It seems there is no information about the city. If you can provide more details or a description of a specific city, I'd be happy to extract some interesting facts for you!\", 'tool_calls': None, 'function_call': None}, 'finish_reason': 'stop'}], 'created': 1749410978, 'service_tier': 'default', 'system_fingerprint': 'fp_07871e2ad8'}, {'id': 'chatcmpl-BgG03TB7070Nz9ji6ZCjmgsN0faa8', 'model': 'gpt-4o-2024-08-06', 'usage': {'total_tokens': 126, 'prompt_tokens': 93, 'completion_tokens': 33, 'prompt_tokens_details': {'audio_tokens': 0, 'cached_tokens': 0}, 'completion_tokens_details': {'audio_tokens': 0, 'reasoning_tokens': 0, 'accepted_prediction_tokens': 0, 'rejected_prediction_tokens': 0}}, 'object': 'chat.completion', 'choices': [{'index': 0, 'message': {'role': 'assistant', 'content': \"It looks like there is no information provided about the city. If you can provide some details about the city, I'd be happy to extract some interesting facts for you!\", 'tool_calls': None, 'function_call': None}, 'finish_reason': 'stop'}], 'created': 1749410979, 'service_tier': 'default', 'system_fingerprint': 'fp_07871e2ad8'}, {'id': 'chatcmpl-BgG03djFoojFMwIvUy42TfgV7ORai', 'model': 'gpt-4o-2024-08-06', 'usage': {'total_tokens': 137, 'prompt_tokens': 93, 'completion_tokens': 44, 'prompt_tokens_details': {'audio_tokens': 0, 'cached_tokens': 0}, 'completion_tokens_details': {'audio_tokens': 0, 'reasoning_tokens': 0, 'accepted_prediction_tokens': 0, 'rejected_prediction_tokens': 0}}, 'object': 'chat.completion', 'choices': [{'index': 0, 'message': {'role': 'assistant', 'content': \"I'm sorry, it looks like the description provided doesn't contain any information about a city. If you have a different or more detailed description, feel free to share it, and I'd be happy to help extract some interesting facts!\", 'tool_calls': None, 'function_call': None}, 'finish_reason': 'stop'}], 'created': 1749410979, 'service_tier': 'default', 'system_fingerprint': 'fp_07871e2ad8'}, {'id': 'chatcmpl-BgG03x7BP1rl7foodT0u3xwDeFLpO', 'model': 'gpt-4o-2024-08-06', 'usage': {'total_tokens': 132, 'prompt_tokens': 93, 'completion_tokens': 39, 'prompt_tokens_details': {'audio_tokens': 0, 'cached_tokens': 0}, 'completion_tokens_details': {'audio_tokens': 0, 'reasoning_tokens': 0, 'accepted_prediction_tokens': 0, 'rejected_prediction_tokens': 0}}, 'object': 'chat.completion', 'choices': [{'index': 0, 'message': {'role': 'assistant', 'content': \"It seems there is no information provided about the city. Could you please provide a description or some details about the city you are interested in? I'd be happy to help once I have more information!\", 'tool_calls': None, 'function_call': None}, 'finish_reason': 'stop'}], 'created': 1749410979, 'service_tier': 'default', 'system_fingerprint': 'fp_07871e2ad8'}, {'id': 'chatcmpl-BgG035XERM9NhUEn3cj3mxXWsBR9F', 'model': 'gpt-4o-2024-08-06', 'usage': {'total_tokens': 125, 'prompt_tokens': 93, 'completion_tokens': 32, 'prompt_tokens_details': {'audio_tokens': 0, 'cached_tokens': 0}, 'completion_tokens_details': {'audio_tokens': 0, 'reasoning_tokens': 0, 'accepted_prediction_tokens': 0, 'rejected_prediction_tokens': 0}}, 'object': 'chat.completion', 'choices': [{'index': 0, 'message': {'role': 'assistant', 'content': \"It seems like there is no detailed information provided about a city. If you can share more about any city, I'd be happy to help extract some interesting facts!\", 'tool_calls': None, 'function_call': None}, 'finish_reason': 'stop'}], 'created': 1749410979, 'service_tier': 'default', 'system_fingerprint': 'fp_07871e2ad8'}]\n",
      "--------------------------------------------------\n",
      "Transition type:  step\n",
      "Transition output:  {'zipped': [['New York', {'id': 'chatcmpl-BgG02p7VaA2q9TnhAY4vJaf5lbcRd', 'model': 'gpt-4o-2024-08-06', 'usage': {'total_tokens': 128, 'prompt_tokens': 93, 'completion_tokens': 35, 'prompt_tokens_details': {'audio_tokens': 0, 'cached_tokens': 0}, 'completion_tokens_details': {'audio_tokens': 0, 'reasoning_tokens': 0, 'accepted_prediction_tokens': 0, 'rejected_prediction_tokens': 0}}, 'object': 'chat.completion', 'choices': [{'index': 0, 'message': {'role': 'assistant', 'content': \"It seems there is no information about the city. If you can provide more details or a description of a specific city, I'd be happy to extract some interesting facts for you!\", 'tool_calls': None, 'function_call': None}, 'finish_reason': 'stop'}], 'created': 1749410978, 'service_tier': 'default', 'system_fingerprint': 'fp_07871e2ad8'}], ['London', {'id': 'chatcmpl-BgG03TB7070Nz9ji6ZCjmgsN0faa8', 'model': 'gpt-4o-2024-08-06', 'usage': {'total_tokens': 126, 'prompt_tokens': 93, 'completion_tokens': 33, 'prompt_tokens_details': {'audio_tokens': 0, 'cached_tokens': 0}, 'completion_tokens_details': {'audio_tokens': 0, 'reasoning_tokens': 0, 'accepted_prediction_tokens': 0, 'rejected_prediction_tokens': 0}}, 'object': 'chat.completion', 'choices': [{'index': 0, 'message': {'role': 'assistant', 'content': \"It looks like there is no information provided about the city. If you can provide some details about the city, I'd be happy to extract some interesting facts for you!\", 'tool_calls': None, 'function_call': None}, 'finish_reason': 'stop'}], 'created': 1749410979, 'service_tier': 'default', 'system_fingerprint': 'fp_07871e2ad8'}], ['Paris', {'id': 'chatcmpl-BgG03djFoojFMwIvUy42TfgV7ORai', 'model': 'gpt-4o-2024-08-06', 'usage': {'total_tokens': 137, 'prompt_tokens': 93, 'completion_tokens': 44, 'prompt_tokens_details': {'audio_tokens': 0, 'cached_tokens': 0}, 'completion_tokens_details': {'audio_tokens': 0, 'reasoning_tokens': 0, 'accepted_prediction_tokens': 0, 'rejected_prediction_tokens': 0}}, 'object': 'chat.completion', 'choices': [{'index': 0, 'message': {'role': 'assistant', 'content': \"I'm sorry, it looks like the description provided doesn't contain any information about a city. If you have a different or more detailed description, feel free to share it, and I'd be happy to help extract some interesting facts!\", 'tool_calls': None, 'function_call': None}, 'finish_reason': 'stop'}], 'created': 1749410979, 'service_tier': 'default', 'system_fingerprint': 'fp_07871e2ad8'}], ['Tokyo', {'id': 'chatcmpl-BgG03x7BP1rl7foodT0u3xwDeFLpO', 'model': 'gpt-4o-2024-08-06', 'usage': {'total_tokens': 132, 'prompt_tokens': 93, 'completion_tokens': 39, 'prompt_tokens_details': {'audio_tokens': 0, 'cached_tokens': 0}, 'completion_tokens_details': {'audio_tokens': 0, 'reasoning_tokens': 0, 'accepted_prediction_tokens': 0, 'rejected_prediction_tokens': 0}}, 'object': 'chat.completion', 'choices': [{'index': 0, 'message': {'role': 'assistant', 'content': \"It seems there is no information provided about the city. Could you please provide a description or some details about the city you are interested in? I'd be happy to help once I have more information!\", 'tool_calls': None, 'function_call': None}, 'finish_reason': 'stop'}], 'created': 1749410979, 'service_tier': 'default', 'system_fingerprint': 'fp_07871e2ad8'}], ['Sydney', {'id': 'chatcmpl-BgG035XERM9NhUEn3cj3mxXWsBR9F', 'model': 'gpt-4o-2024-08-06', 'usage': {'total_tokens': 125, 'prompt_tokens': 93, 'completion_tokens': 32, 'prompt_tokens_details': {'audio_tokens': 0, 'cached_tokens': 0}, 'completion_tokens_details': {'audio_tokens': 0, 'reasoning_tokens': 0, 'accepted_prediction_tokens': 0, 'rejected_prediction_tokens': 0}}, 'object': 'chat.completion', 'choices': [{'index': 0, 'message': {'role': 'assistant', 'content': \"It seems like there is no detailed information provided about a city. If you can share more about any city, I'd be happy to help extract some interesting facts!\", 'tool_calls': None, 'function_call': None}, 'finish_reason': 'stop'}], 'created': 1749410979, 'service_tier': 'default', 'system_fingerprint': 'fp_07871e2ad8'}]]}\n",
      "--------------------------------------------------\n",
      "Transition type:  init_branch\n",
      "Transition output:  ['New York', {'id': 'chatcmpl-BgG02p7VaA2q9TnhAY4vJaf5lbcRd', 'model': 'gpt-4o-2024-08-06', 'usage': {'total_tokens': 128, 'prompt_tokens': 93, 'completion_tokens': 35, 'prompt_tokens_details': {'audio_tokens': 0, 'cached_tokens': 0}, 'completion_tokens_details': {'audio_tokens': 0, 'reasoning_tokens': 0, 'accepted_prediction_tokens': 0, 'rejected_prediction_tokens': 0}}, 'object': 'chat.completion', 'choices': [{'index': 0, 'message': {'role': 'assistant', 'content': \"It seems there is no information about the city. If you can provide more details or a description of a specific city, I'd be happy to extract some interesting facts for you!\", 'tool_calls': None, 'function_call': None}, 'finish_reason': 'stop'}], 'created': 1749410978, 'service_tier': 'default', 'system_fingerprint': 'fp_07871e2ad8'}]\n",
      "--------------------------------------------------\n",
      "Transition type:  init_branch\n",
      "Transition output:  ['London', {'id': 'chatcmpl-BgG03TB7070Nz9ji6ZCjmgsN0faa8', 'model': 'gpt-4o-2024-08-06', 'usage': {'total_tokens': 126, 'prompt_tokens': 93, 'completion_tokens': 33, 'prompt_tokens_details': {'audio_tokens': 0, 'cached_tokens': 0}, 'completion_tokens_details': {'audio_tokens': 0, 'reasoning_tokens': 0, 'accepted_prediction_tokens': 0, 'rejected_prediction_tokens': 0}}, 'object': 'chat.completion', 'choices': [{'index': 0, 'message': {'role': 'assistant', 'content': \"It looks like there is no information provided about the city. If you can provide some details about the city, I'd be happy to extract some interesting facts for you!\", 'tool_calls': None, 'function_call': None}, 'finish_reason': 'stop'}], 'created': 1749410979, 'service_tier': 'default', 'system_fingerprint': 'fp_07871e2ad8'}]\n",
      "--------------------------------------------------\n",
      "Transition type:  init_branch\n",
      "Transition output:  ['Paris', {'id': 'chatcmpl-BgG03djFoojFMwIvUy42TfgV7ORai', 'model': 'gpt-4o-2024-08-06', 'usage': {'total_tokens': 137, 'prompt_tokens': 93, 'completion_tokens': 44, 'prompt_tokens_details': {'audio_tokens': 0, 'cached_tokens': 0}, 'completion_tokens_details': {'audio_tokens': 0, 'reasoning_tokens': 0, 'accepted_prediction_tokens': 0, 'rejected_prediction_tokens': 0}}, 'object': 'chat.completion', 'choices': [{'index': 0, 'message': {'role': 'assistant', 'content': \"I'm sorry, it looks like the description provided doesn't contain any information about a city. If you have a different or more detailed description, feel free to share it, and I'd be happy to help extract some interesting facts!\", 'tool_calls': None, 'function_call': None}, 'finish_reason': 'stop'}], 'created': 1749410979, 'service_tier': 'default', 'system_fingerprint': 'fp_07871e2ad8'}]\n",
      "--------------------------------------------------\n",
      "Transition type:  init_branch\n",
      "Transition output:  ['Tokyo', {'id': 'chatcmpl-BgG03x7BP1rl7foodT0u3xwDeFLpO', 'model': 'gpt-4o-2024-08-06', 'usage': {'total_tokens': 132, 'prompt_tokens': 93, 'completion_tokens': 39, 'prompt_tokens_details': {'audio_tokens': 0, 'cached_tokens': 0}, 'completion_tokens_details': {'audio_tokens': 0, 'reasoning_tokens': 0, 'accepted_prediction_tokens': 0, 'rejected_prediction_tokens': 0}}, 'object': 'chat.completion', 'choices': [{'index': 0, 'message': {'role': 'assistant', 'content': \"It seems there is no information provided about the city. Could you please provide a description or some details about the city you are interested in? I'd be happy to help once I have more information!\", 'tool_calls': None, 'function_call': None}, 'finish_reason': 'stop'}], 'created': 1749410979, 'service_tier': 'default', 'system_fingerprint': 'fp_07871e2ad8'}]\n",
      "--------------------------------------------------\n",
      "Transition type:  init_branch\n",
      "Transition output:  ['Sydney', {'id': 'chatcmpl-BgG035XERM9NhUEn3cj3mxXWsBR9F', 'model': 'gpt-4o-2024-08-06', 'usage': {'total_tokens': 125, 'prompt_tokens': 93, 'completion_tokens': 32, 'prompt_tokens_details': {'audio_tokens': 0, 'cached_tokens': 0}, 'completion_tokens_details': {'audio_tokens': 0, 'reasoning_tokens': 0, 'accepted_prediction_tokens': 0, 'rejected_prediction_tokens': 0}}, 'object': 'chat.completion', 'choices': [{'index': 0, 'message': {'role': 'assistant', 'content': \"It seems like there is no detailed information provided about a city. If you can share more about any city, I'd be happy to help extract some interesting facts!\", 'tool_calls': None, 'function_call': None}, 'finish_reason': 'stop'}], 'created': 1749410979, 'service_tier': 'default', 'system_fingerprint': 'fp_07871e2ad8'}]\n",
      "--------------------------------------------------\n",
      "Transition type:  finish_branch\n",
      "Transition output:  {'id': 'chatcmpl-BgG06I51uCc0vOG7oh10TD7gdsrkb', 'model': 'gpt-4o-2024-08-06', 'usage': {'total_tokens': 412, 'prompt_tokens': 279, 'completion_tokens': 133, 'prompt_tokens_details': {'audio_tokens': 0, 'cached_tokens': 0}, 'completion_tokens_details': {'audio_tokens': 0, 'reasoning_tokens': 0, 'accepted_prediction_tokens': 0, 'rejected_prediction_tokens': 0}}, 'object': 'chat.completion', 'choices': [{'index': 0, 'message': {'role': 'assistant', 'content': \"### Did you know about Sydney?\\n\\nSydney, the vibrant capital of New South Wales, Australia, is famed not only for its stunning harbourfront and iconic Opera House, but also for its rich cultural heritage and dynamic lifestyle. Known for its stunning beaches, such as Bondi and Manly, Sydney offers a perfect mix of urban sophistication and coastal relaxation. Whether you're exploring the historic Rocks district or climbing the Sydney Harbour Bridge for a breathtaking view, this city is full of surprises. With a diverse culinary scene, lush parks like the Royal Botanic Garden, and a plethora of cultural festivals, Sydney is a city that invites you to discover its many facets time and again.\", 'tool_calls': None, 'function_call': None}, 'finish_reason': 'stop'}], 'created': 1749410982, 'service_tier': 'default', 'system_fingerprint': 'fp_07871e2ad8'}\n",
      "--------------------------------------------------\n",
      "Transition type:  finish_branch\n",
      "Transition output:  {'id': 'chatcmpl-BgG061T1mjogwLVS4RJ496BDVt7lX', 'model': 'gpt-4o-2024-08-06', 'usage': {'total_tokens': 427, 'prompt_tokens': 288, 'completion_tokens': 139, 'prompt_tokens_details': {'audio_tokens': 0, 'cached_tokens': 0}, 'completion_tokens_details': {'audio_tokens': 0, 'reasoning_tokens': 0, 'accepted_prediction_tokens': 0, 'rejected_prediction_tokens': 0}}, 'object': 'chat.completion', 'choices': [{'index': 0, 'message': {'role': 'assistant', 'content': \"# Did you know about Tokyo?\\n\\nTokyo, Japan's bustling capital, is a fascinating blend of ultramodern and traditional, from neon-lit skyscrapers to historic temples. As one of the most populated cities globally, Tokyo is renowned for its vibrant culture, innovative technology, and unforgettable cuisine. The city offers a rich tapestry of experiences, whether you're exploring the serene gardens of the Imperial Palace or the electric streets of Shibuya Crossing. Even with its fast-paced lifestyle, Tokyo maintains an impeccable sense of order and cleanliness. With a unique blend of the old and new, Tokyo continuously captivates millions with its charm and sophistication, making it a must-visit destination for travelers around the world.\", 'tool_calls': None, 'function_call': None}, 'finish_reason': 'stop'}], 'created': 1749410982, 'service_tier': 'default', 'system_fingerprint': 'fp_07871e2ad8'}\n",
      "--------------------------------------------------\n",
      "Transition type:  finish_branch\n",
      "Transition output:  {'id': 'chatcmpl-BgG06Ov4Rhoq83E1Clen1Ahgiq2Jp', 'model': 'gpt-4o-2024-08-06', 'usage': {'total_tokens': 403, 'prompt_tokens': 286, 'completion_tokens': 117, 'prompt_tokens_details': {'audio_tokens': 0, 'cached_tokens': 0}, 'completion_tokens_details': {'audio_tokens': 0, 'reasoning_tokens': 0, 'accepted_prediction_tokens': 0, 'rejected_prediction_tokens': 0}}, 'object': 'chat.completion', 'choices': [{'index': 0, 'message': {'role': 'assistant', 'content': '**Did you know about New York?**\\n\\nNew York, often referred to as \"The Big Apple,\" is a bustling metropolis known for its iconic skyline and vibrant culture. From the towering Empire State Building to the tranquility of Central Park, the city offers a unique blend of architectural marvels and serene natural spaces. It\\'s a melting pot of cultures, with an energy that attracts millions of visitors from around the world each year. Whether you\\'re exploring the rich history of its museums or indulging in the diverse culinary scene, New York City is truly a place where everyone can find something to love.', 'tool_calls': None, 'function_call': None}, 'finish_reason': 'stop'}], 'created': 1749410982, 'service_tier': 'default', 'system_fingerprint': 'fp_07871e2ad8'}\n",
      "--------------------------------------------------\n",
      "Transition type:  finish_branch\n",
      "Transition output:  {'id': 'chatcmpl-BgG06PRML1H1W1XHJN48suYfGXs3l', 'model': 'gpt-4o-2024-08-06', 'usage': {'total_tokens': 411, 'prompt_tokens': 290, 'completion_tokens': 121, 'prompt_tokens_details': {'audio_tokens': 0, 'cached_tokens': 0}, 'completion_tokens_details': {'audio_tokens': 0, 'reasoning_tokens': 0, 'accepted_prediction_tokens': 0, 'rejected_prediction_tokens': 0}}, 'object': 'chat.completion', 'choices': [{'index': 0, 'message': {'role': 'assistant', 'content': '**Did you know about Paris?**\\n\\nParis, often referred to as \"The City of Light,\" is renowned for its stunning architecture, vibrant culture, and historical landmarks. As the capital of France, Paris is famous for iconic structures like the Eiffel Tower, the Louvre Museum which houses the Mona Lisa, and the historic Notre-Dame Cathedral. The city is also celebrated for its charming streets, world-class cuisine, and fashion scene, making it a top destination for travelers from around the globe. Whether you\\'re strolling along the Seine River or enjoying a coffee at a quaint café, Paris offers a rich and unforgettable experience.', 'tool_calls': None, 'function_call': None}, 'finish_reason': 'stop'}], 'created': 1749410982, 'service_tier': 'default', 'system_fingerprint': 'fp_07871e2ad8'}\n",
      "--------------------------------------------------\n",
      "Transition type:  finish_branch\n",
      "Transition output:  {'id': 'chatcmpl-BgG065zZWNqin1pc039SiZSoG2NJV', 'model': 'gpt-4o-2024-08-06', 'usage': {'total_tokens': 411, 'prompt_tokens': 280, 'completion_tokens': 131, 'prompt_tokens_details': {'audio_tokens': 0, 'cached_tokens': 0}, 'completion_tokens_details': {'audio_tokens': 0, 'reasoning_tokens': 0, 'accepted_prediction_tokens': 0, 'rejected_prediction_tokens': 0}}, 'object': 'chat.completion', 'choices': [{'index': 0, 'message': {'role': 'assistant', 'content': \"**Did you know about London?**\\n\\nLondon, the vibrant capital of England, is not only a bustling global city rich in history and culture but also a hub of modern innovation and diversity. From the iconic Big Ben to the majestic Tower of London, the cityscape is a blend of timeless landmarks and contemporary architecture. Take a stroll along the River Thames, enjoy the serene beauty of Hyde Park, or explore the world-class museums and galleries that offer a glimpse into London's eclectic past and thriving arts scene. Whether you're indulging in the diverse culinary experiences or catching a West End theatre show, London is a place that captures the heart and imagination of every visitor.\", 'tool_calls': None, 'function_call': None}, 'finish_reason': 'stop'}], 'created': 1749410982, 'service_tier': 'default', 'system_fingerprint': 'fp_07871e2ad8'}\n",
      "--------------------------------------------------\n",
      "Transition type:  step\n",
      "Transition output:  [{'id': 'chatcmpl-BgG06Ov4Rhoq83E1Clen1Ahgiq2Jp', 'model': 'gpt-4o-2024-08-06', 'usage': {'total_tokens': 403, 'prompt_tokens': 286, 'completion_tokens': 117, 'prompt_tokens_details': {'audio_tokens': 0, 'cached_tokens': 0}, 'completion_tokens_details': {'audio_tokens': 0, 'reasoning_tokens': 0, 'accepted_prediction_tokens': 0, 'rejected_prediction_tokens': 0}}, 'object': 'chat.completion', 'choices': [{'index': 0, 'message': {'role': 'assistant', 'content': '**Did you know about New York?**\\n\\nNew York, often referred to as \"The Big Apple,\" is a bustling metropolis known for its iconic skyline and vibrant culture. From the towering Empire State Building to the tranquility of Central Park, the city offers a unique blend of architectural marvels and serene natural spaces. It\\'s a melting pot of cultures, with an energy that attracts millions of visitors from around the world each year. Whether you\\'re exploring the rich history of its museums or indulging in the diverse culinary scene, New York City is truly a place where everyone can find something to love.', 'tool_calls': None, 'function_call': None}, 'finish_reason': 'stop'}], 'created': 1749410982, 'service_tier': 'default', 'system_fingerprint': 'fp_07871e2ad8'}, {'id': 'chatcmpl-BgG065zZWNqin1pc039SiZSoG2NJV', 'model': 'gpt-4o-2024-08-06', 'usage': {'total_tokens': 411, 'prompt_tokens': 280, 'completion_tokens': 131, 'prompt_tokens_details': {'audio_tokens': 0, 'cached_tokens': 0}, 'completion_tokens_details': {'audio_tokens': 0, 'reasoning_tokens': 0, 'accepted_prediction_tokens': 0, 'rejected_prediction_tokens': 0}}, 'object': 'chat.completion', 'choices': [{'index': 0, 'message': {'role': 'assistant', 'content': \"**Did you know about London?**\\n\\nLondon, the vibrant capital of England, is not only a bustling global city rich in history and culture but also a hub of modern innovation and diversity. From the iconic Big Ben to the majestic Tower of London, the cityscape is a blend of timeless landmarks and contemporary architecture. Take a stroll along the River Thames, enjoy the serene beauty of Hyde Park, or explore the world-class museums and galleries that offer a glimpse into London's eclectic past and thriving arts scene. Whether you're indulging in the diverse culinary experiences or catching a West End theatre show, London is a place that captures the heart and imagination of every visitor.\", 'tool_calls': None, 'function_call': None}, 'finish_reason': 'stop'}], 'created': 1749410982, 'service_tier': 'default', 'system_fingerprint': 'fp_07871e2ad8'}, {'id': 'chatcmpl-BgG06PRML1H1W1XHJN48suYfGXs3l', 'model': 'gpt-4o-2024-08-06', 'usage': {'total_tokens': 411, 'prompt_tokens': 290, 'completion_tokens': 121, 'prompt_tokens_details': {'audio_tokens': 0, 'cached_tokens': 0}, 'completion_tokens_details': {'audio_tokens': 0, 'reasoning_tokens': 0, 'accepted_prediction_tokens': 0, 'rejected_prediction_tokens': 0}}, 'object': 'chat.completion', 'choices': [{'index': 0, 'message': {'role': 'assistant', 'content': '**Did you know about Paris?**\\n\\nParis, often referred to as \"The City of Light,\" is renowned for its stunning architecture, vibrant culture, and historical landmarks. As the capital of France, Paris is famous for iconic structures like the Eiffel Tower, the Louvre Museum which houses the Mona Lisa, and the historic Notre-Dame Cathedral. The city is also celebrated for its charming streets, world-class cuisine, and fashion scene, making it a top destination for travelers from around the globe. Whether you\\'re strolling along the Seine River or enjoying a coffee at a quaint café, Paris offers a rich and unforgettable experience.', 'tool_calls': None, 'function_call': None}, 'finish_reason': 'stop'}], 'created': 1749410982, 'service_tier': 'default', 'system_fingerprint': 'fp_07871e2ad8'}, {'id': 'chatcmpl-BgG061T1mjogwLVS4RJ496BDVt7lX', 'model': 'gpt-4o-2024-08-06', 'usage': {'total_tokens': 427, 'prompt_tokens': 288, 'completion_tokens': 139, 'prompt_tokens_details': {'audio_tokens': 0, 'cached_tokens': 0}, 'completion_tokens_details': {'audio_tokens': 0, 'reasoning_tokens': 0, 'accepted_prediction_tokens': 0, 'rejected_prediction_tokens': 0}}, 'object': 'chat.completion', 'choices': [{'index': 0, 'message': {'role': 'assistant', 'content': \"# Did you know about Tokyo?\\n\\nTokyo, Japan's bustling capital, is a fascinating blend of ultramodern and traditional, from neon-lit skyscrapers to historic temples. As one of the most populated cities globally, Tokyo is renowned for its vibrant culture, innovative technology, and unforgettable cuisine. The city offers a rich tapestry of experiences, whether you're exploring the serene gardens of the Imperial Palace or the electric streets of Shibuya Crossing. Even with its fast-paced lifestyle, Tokyo maintains an impeccable sense of order and cleanliness. With a unique blend of the old and new, Tokyo continuously captivates millions with its charm and sophistication, making it a must-visit destination for travelers around the world.\", 'tool_calls': None, 'function_call': None}, 'finish_reason': 'stop'}], 'created': 1749410982, 'service_tier': 'default', 'system_fingerprint': 'fp_07871e2ad8'}, {'id': 'chatcmpl-BgG06I51uCc0vOG7oh10TD7gdsrkb', 'model': 'gpt-4o-2024-08-06', 'usage': {'total_tokens': 412, 'prompt_tokens': 279, 'completion_tokens': 133, 'prompt_tokens_details': {'audio_tokens': 0, 'cached_tokens': 0}, 'completion_tokens_details': {'audio_tokens': 0, 'reasoning_tokens': 0, 'accepted_prediction_tokens': 0, 'rejected_prediction_tokens': 0}}, 'object': 'chat.completion', 'choices': [{'index': 0, 'message': {'role': 'assistant', 'content': \"### Did you know about Sydney?\\n\\nSydney, the vibrant capital of New South Wales, Australia, is famed not only for its stunning harbourfront and iconic Opera House, but also for its rich cultural heritage and dynamic lifestyle. Known for its stunning beaches, such as Bondi and Manly, Sydney offers a perfect mix of urban sophistication and coastal relaxation. Whether you're exploring the historic Rocks district or climbing the Sydney Harbour Bridge for a breathtaking view, this city is full of surprises. With a diverse culinary scene, lush parks like the Royal Botanic Garden, and a plethora of cultural festivals, Sydney is a city that invites you to discover its many facets time and again.\", 'tool_calls': None, 'function_call': None}, 'finish_reason': 'stop'}], 'created': 1749410982, 'service_tier': 'default', 'system_fingerprint': 'fp_07871e2ad8'}]\n",
      "--------------------------------------------------\n",
      "Transition type:  error\n",
      "Transition output:  EvaluateError: sequence item 0: expected str instance, Box found\n",
      "--------------------------------------------------\n"
     ]
    }
   ],
   "source": [
    "# Lists all the task steps that have been executed up to this point in time\n",
    "transitions = client.executions.transitions.list(execution_id=execution.id).items\n",
    "\n",
    "# Transitions are retrieved in reverse chronological order\n",
    "for transition in reversed(transitions):\n",
    "    print(\"Transition type: \", transition.type)\n",
    "    print(\"Transition output: \", transition.output)\n",
    "    print(\"-\"*50)"
   ]
  },
  {
   "cell_type": "markdown",
   "metadata": {},
   "source": [
    "## Related Concepts\n",
    "\n",
    "- [Agents](/concepts/agents)\n",
    "- [Tasks](/concepts/tasks)\n",
    "- [Tools](/concepts/tools)\n"
   ]
  }
 ],
 "metadata": {
  "kernelspec": {
   "display_name": "julep",
   "language": "python",
   "name": "python3"
  },
  "language_info": {
   "codemirror_mode": {
    "name": "ipython",
    "version": 3
   },
   "file_extension": ".py",
   "mimetype": "text/x-python",
   "name": "python",
   "nbconvert_exporter": "python",
   "pygments_lexer": "ipython3",
   "version": "3.10.18"
  }
 },
 "nbformat": 4,
 "nbformat_minor": 2
}
